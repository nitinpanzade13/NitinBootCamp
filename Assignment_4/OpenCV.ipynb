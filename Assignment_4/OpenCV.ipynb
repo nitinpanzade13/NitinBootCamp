{
 "cells": [
  {
   "cell_type": "code",
   "execution_count": 1,
   "metadata": {},
   "outputs": [
    {
     "name": "stdout",
     "output_type": "stream",
     "text": [
      "4.10.0\n"
     ]
    }
   ],
   "source": [
    "#openCV\n",
    "import cv2\n",
    "print(cv2.__version__)"
   ]
  },
  {
   "cell_type": "code",
   "execution_count": 2,
   "metadata": {},
   "outputs": [],
   "source": [
    "# loading and displaying an image\n",
    "# Read the image from the specified file path into a variable 'img'.\n",
    "# 'cv2.imread()' reads the image as a NumPy array. The 'r' before the string denotes a raw string to avoid escape characters (e.g., '\\n').\n",
    "img = cv2.imread(r'C:\\Users\\Dell\\Downloads\\BOOTCAMP\\Day4\\tiger.jpeg')\n",
    "\n",
    "# Display the image in a window. The first argument is the window name (title), and the second is the image to be displayed.\n",
    "cv2.imshow('Image', img)\n",
    "\n",
    "# Wait for a key press indefinitely (0 means infinite delay).\n",
    "# This allows the window to stay open until any key is pressed.\n",
    "cv2.waitKey(0)\n",
    "\n",
    "# Close all OpenCV windows that were opened (like the image display window) after a key press.\n",
    "cv2.destroyAllWindows()\n"
   ]
  },
  {
   "cell_type": "code",
   "execution_count": 3,
   "metadata": {},
   "outputs": [
    {
     "data": {
      "text/plain": [
       "(276, 183, 3)"
      ]
     },
     "execution_count": 3,
     "metadata": {},
     "output_type": "execute_result"
    }
   ],
   "source": [
    "img.shape"
   ]
  },
  {
   "cell_type": "code",
   "execution_count": 4,
   "metadata": {},
   "outputs": [],
   "source": [
    "# Basic image Operations\n",
    "\n",
    "resize_img=cv2.resize(img,(400,600))\n",
    "cv2.imshow('Resized Image',resize_img)\n",
    "cv2.waitKey(0)\n",
    "cv2.destroyAllWindows()"
   ]
  },
  {
   "cell_type": "code",
   "execution_count": 5,
   "metadata": {},
   "outputs": [],
   "source": [
    "#Convert image into grascale\n",
    "gray_img=cv2.cvtColor(img,cv2.COLOR_BGR2GRAY)\n",
    "cv2.imshow('Gray Image',gray_img)\n",
    "cv2.waitKey(0)\n",
    "cv2.destroyAllWindows()\n"
   ]
  },
  {
   "cell_type": "code",
   "execution_count": 6,
   "metadata": {},
   "outputs": [
    {
     "name": "stdout",
     "output_type": "stream",
     "text": [
      "(276, 183)\n"
     ]
    }
   ],
   "source": [
    "print(gray_img.shape)"
   ]
  },
  {
   "cell_type": "code",
   "execution_count": 7,
   "metadata": {},
   "outputs": [],
   "source": [
    "#Crop image\n",
    "crop_img=gray_img[1:200,1:266]\n",
    "cv2.imshow('Crop Image',crop_img)\n",
    "cv2.waitKey(0)\n",
    "cv2.destroyAllWindows()\n"
   ]
  },
  {
   "cell_type": "code",
   "execution_count": 8,
   "metadata": {},
   "outputs": [],
   "source": [
    "#Rotat image\n",
    "(h,w)=resize_img.shape[:2]\n",
    "center= (w//2,h//2)\n",
    "M=cv2.getRotationMatrix2D(center,37,1.0)\n",
    "rotated_img=cv2.warpAffine(resize_img,M,(w,h))\n",
    "cv2.imshow('Rotated Image',rotated_img)\n",
    "cv2.waitKey(0)\n",
    "cv2.destroyAllWindows()"
   ]
  },
  {
   "cell_type": "code",
   "execution_count": 9,
   "metadata": {},
   "outputs": [],
   "source": [
    "#blur image\n",
    "#gaussianBlur\n",
    "\n",
    "blur_img = cv2.GaussianBlur(resize_img,(5,5),5)\n",
    "cv2.imshow('Blur Image',blur_img)\n",
    "cv2.waitKey(0)\n",
    "cv2.destroyAllWindows()"
   ]
  },
  {
   "cell_type": "code",
   "execution_count": 10,
   "metadata": {},
   "outputs": [],
   "source": [
    "#Media blur\n",
    "Median_blur_img = cv2.medianBlur(resize_img,5)\n",
    "cv2.imshow('Median Image blur',Median_blur_img)\n",
    "cv2.waitKey(0)\n",
    "cv2.destroyAllWindows()\n"
   ]
  },
  {
   "cell_type": "code",
   "execution_count": 11,
   "metadata": {},
   "outputs": [],
   "source": [
    "#bilateral blur\n",
    "bilateral_blur = cv2.bilateralFilter(resize_img,9,75,75)\n",
    "cv2.imshow('Bilateral Image blur',bilateral_blur)\n",
    "cv2.waitKey(0)\n",
    "cv2.destroyAllWindows()"
   ]
  },
  {
   "cell_type": "code",
   "execution_count": 17,
   "metadata": {},
   "outputs": [],
   "source": [
    "#Average Blur\n",
    "average_blur = cv2.blur(resize_img,(5,5))\n",
    "cv2.imshow('Average Image blur',bilateral_blur)\n",
    "cv2.waitKey(0)\n",
    "cv2.destroyAllWindows()"
   ]
  },
  {
   "cell_type": "code",
   "execution_count": 20,
   "metadata": {},
   "outputs": [],
   "source": [
    "#Image Thresholding\n",
    "#Binary Thresholding\n",
    "_,thresh_img=cv2.threshold(gray_img,127,255, cv2.THRESH_BINARY)\n",
    "cv2.imshow('Binary Thresholding',thresh_img)\n",
    "cv2.waitKey(0)\n",
    "cv2.destroyAllWindows()"
   ]
  },
  {
   "cell_type": "code",
   "execution_count": 22,
   "metadata": {},
   "outputs": [],
   "source": [
    "#Inverse Binary Thresholding\n",
    "_,thresh_img=cv2.threshold(gray_img,127,255, cv2.THRESH_BINARY_INV)\n",
    "cv2.imshow('Inverse Binary Thresholding',thresh_img)\n",
    "cv2.waitKey(0)\n",
    "cv2.destroyAllWindows()"
   ]
  },
  {
   "cell_type": "code",
   "execution_count": 23,
   "metadata": {},
   "outputs": [],
   "source": [
    "#truncated threshold\n",
    "_,thresh_img=cv2.threshold(gray_img,127,255, cv2.THRESH_TRUNC)\n",
    "cv2.imshow('Truncated Thresholding',thresh_img)\n",
    "cv2.waitKey(0)\n",
    "cv2.destroyAllWindows()"
   ]
  },
  {
   "cell_type": "code",
   "execution_count": 24,
   "metadata": {},
   "outputs": [],
   "source": [
    "#Zero threshold\n",
    "_,thresh_img=cv2.threshold(gray_img,127,255, cv2.THRESH_TOZERO)\n",
    "cv2.imshow('Zero Thresholding',thresh_img)\n",
    "cv2.waitKey(0)\n",
    "cv2.destroyAllWindows()"
   ]
  },
  {
   "cell_type": "code",
   "execution_count": 25,
   "metadata": {},
   "outputs": [],
   "source": [
    "#Inverse Zero threshold\n",
    "_,thresh_img=cv2.threshold(gray_img,127,255, cv2.THRESH_TOZERO_INV)\n",
    "cv2.imshow('Inverse Zero Thresholding',thresh_img)\n",
    "cv2.waitKey(0)\n",
    "cv2.destroyAllWindows()"
   ]
  },
  {
   "cell_type": "code",
   "execution_count": 32,
   "metadata": {},
   "outputs": [],
   "source": [
    "#Adaptive Threshold\n",
    "adaptive_thresh_img=cv2.adaptiveThreshold(gray_img,255, cv2.ADAPTIVE_THRESH_GAUSSIAN_C,cv2.THRESH_BINARY,11,2)\n",
    "cv2.imshow('Adaptive Thresholding',adaptive_thresh_img)\n",
    "cv2.waitKey(0)\n",
    "cv2.destroyAllWindows()"
   ]
  },
  {
   "cell_type": "code",
   "execution_count": 26,
   "metadata": {},
   "outputs": [],
   "source": [
    "#Edge Detection\n",
    "#Canny Edge Detection \n",
    "edges =cv2.Canny(resize_img,127,255)\n",
    "cv2.imshow('Canny Edge Detection ',edges)\n",
    "cv2.waitKey(0)\n",
    "cv2.destroyAllWindows()"
   ]
  }
 ],
 "metadata": {
  "kernelspec": {
   "display_name": "Python 3",
   "language": "python",
   "name": "python3"
  },
  "language_info": {
   "codemirror_mode": {
    "name": "ipython",
    "version": 3
   },
   "file_extension": ".py",
   "mimetype": "text/x-python",
   "name": "python",
   "nbconvert_exporter": "python",
   "pygments_lexer": "ipython3",
   "version": "3.11.0"
  }
 },
 "nbformat": 4,
 "nbformat_minor": 2
}
